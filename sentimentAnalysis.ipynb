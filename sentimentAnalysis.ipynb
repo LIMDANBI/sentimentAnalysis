{
 "cells": [
  {
   "cell_type": "markdown",
   "metadata": {
    "id": "nb_tdFQZBmzy"
   },
   "source": [
    "# 필요한 Library import \n",
    "\n",
    "### torchtext\n",
    "torchText 는 자연어 처리에서 아래 과정을 쉽게 도와준다.\n",
    "- 토크나이징 (Tokenization)\n",
    "- 단어장 생성 (Build Vocabulary)\n",
    "- 토큰의 수치화 (Numericalize all tokens)\n",
    "- 데이터 로더 생성 (Create Data Loader)"
   ]
  },
  {
   "cell_type": "code",
   "execution_count": 1,
   "metadata": {
    "executionInfo": {
     "elapsed": 2038,
     "status": "ok",
     "timestamp": 1637778401272,
     "user": {
      "displayName": "danbibibi",
      "photoUrl": "https://lh3.googleusercontent.com/a-/AOh14GgCV4LCdBxb_RmpjoLw-8ThZ8N7trcM9XwJEfHFPQ=s64",
      "userId": "02685073261701276939"
     },
     "user_tz": -540
    },
    "id": "25QZVarSBmKg"
   },
   "outputs": [],
   "source": [
    "import torch\n",
    "import torch.nn as nn\n",
    "import torch.nn.functional as F\n",
    "import torch.optim as optim\n",
    "import time\n",
    "from torchtext.legacy import data \n",
    "from torchtext import datasets\n",
    "import random\n",
    "import numpy as np\n",
    "\n",
    "from konlpy.tag import Mecab\n",
    "mecab = Mecab()"
   ]
  },
  {
   "cell_type": "markdown",
   "metadata": {
    "id": "-nM8cTimBziT"
   },
   "source": [
    "# 랜덤 시드 고정"
   ]
  },
  {
   "cell_type": "code",
   "execution_count": 2,
   "metadata": {
    "executionInfo": {
     "elapsed": 9,
     "status": "ok",
     "timestamp": 1637778401273,
     "user": {
      "displayName": "danbibibi",
      "photoUrl": "https://lh3.googleusercontent.com/a-/AOh14GgCV4LCdBxb_RmpjoLw-8ThZ8N7trcM9XwJEfHFPQ=s64",
      "userId": "02685073261701276939"
     },
     "user_tz": -540
    },
    "id": "gAUromKQBySK"
   },
   "outputs": [],
   "source": [
    "SEED = 42\n",
    "\n",
    "random.seed(SEED)\n",
    "np.random.seed(SEED)\n",
    "torch.manual_seed(SEED)\n",
    "torch.backends.cudnn.deterministic = True"
   ]
  },
  {
   "cell_type": "markdown",
   "metadata": {
    "id": "nNmCYSu5B3Fe"
   },
   "source": [
    "# Tokenizer 수정"
   ]
  },
  {
   "cell_type": "code",
   "execution_count": 3,
   "metadata": {
    "executionInfo": {
     "elapsed": 9,
     "status": "ok",
     "timestamp": 1637778401274,
     "user": {
      "displayName": "danbibibi",
      "photoUrl": "https://lh3.googleusercontent.com/a-/AOh14GgCV4LCdBxb_RmpjoLw-8ThZ8N7trcM9XwJEfHFPQ=s64",
      "userId": "02685073261701276939"
     },
     "user_tz": -540
    },
    "id": "M5KURrX3B2N2"
   },
   "outputs": [],
   "source": [
    "KERNEL_SIZE = [3,4,5]\n",
    "\n",
    "def tokenizer(text):\n",
    "    token = mecab.morphs(text) \n",
    "    if len(token) < max(KERNEL_SIZE): \n",
    "        for i in range(0, max(KERNEL_SIZE)-len(token)):\n",
    "            token.append('<PAD>') # 커널 사이즈 보다 문장의 길이가 작은 경우 에러 방지\n",
    "    return token"
   ]
  },
  {
   "cell_type": "markdown",
   "metadata": {
    "id": "xKrtsx3fB8n2"
   },
   "source": [
    "# 필드 정의 및 데이터 셋 만들기"
   ]
  },
  {
   "cell_type": "code",
   "execution_count": 4,
   "metadata": {
    "executionInfo": {
     "elapsed": 25059,
     "status": "ok",
     "timestamp": 1637778426325,
     "user": {
      "displayName": "danbibibi",
      "photoUrl": "https://lh3.googleusercontent.com/a-/AOh14GgCV4LCdBxb_RmpjoLw-8ThZ8N7trcM9XwJEfHFPQ=s64",
      "userId": "02685073261701276939"
     },
     "user_tz": -540
    },
    "id": "hgGo-OarB60p"
   },
   "outputs": [],
   "source": [
    "REVIEW = data.Field(tokenize = tokenizer, batch_first = True)\n",
    "LABEL = data.LabelField(dtype = torch.float)\n",
    "\n",
    "# {csv컬럼명 : (데이터 컬럼명, Field이름)} / id는 사용 x\n",
    "fields = {'review': ('review', REVIEW), 'label': ('label', LABEL)}"
   ]
  },
  {
   "cell_type": "code",
   "execution_count": 5,
   "metadata": {},
   "outputs": [],
   "source": [
    "train_data, test_data = data.TabularDataset.splits(path = 'data', # 데이터 파일 경로 \n",
    "                                                  train = 'train_data.csv',\n",
    "                                                  test = 'test_data.csv',\n",
    "                                                  format = 'csv', # 데이터 파일 형식\n",
    "                                                  fields = fields) \n",
    "\n",
    "train_data, valid_data = train_data.split(random_state = random.seed(SEED))"
   ]
  },
  {
   "cell_type": "code",
   "execution_count": 6,
   "metadata": {
    "colab": {
     "base_uri": "https://localhost:8080/"
    },
    "executionInfo": {
     "elapsed": 10,
     "status": "ok",
     "timestamp": 1637778426326,
     "user": {
      "displayName": "danbibibi",
      "photoUrl": "https://lh3.googleusercontent.com/a-/AOh14GgCV4LCdBxb_RmpjoLw-8ThZ8N7trcM9XwJEfHFPQ=s64",
      "userId": "02685073261701276939"
     },
     "user_tz": -540
    },
    "id": "t9d5bEIxCGt9",
    "outputId": "428004d4-442e-4026-caed-4532c0c2c99e"
   },
   "outputs": [
    {
     "name": "stdout",
     "output_type": "stream",
     "text": [
      "훈련 샘플의 개수 : 104996\n",
      "테스트 샘플의 개수 : 49997\n",
      "{'review': ['너무', '좋', '았', '다', '.', '말', '이', '필요', '없', '음', '.', '계속', '보', '고', '싶', '다'], 'label': '1'}\n"
     ]
    }
   ],
   "source": [
    "print('훈련 샘플의 개수 : {}'.format(len(train_data)))\n",
    "print('테스트 샘플의 개수 : {}'.format(len(test_data)))\n",
    "print(vars(train_data[3]))"
   ]
  },
  {
   "cell_type": "markdown",
   "metadata": {
    "id": "TwKGbmC_CKGu"
   },
   "source": [
    "# 단어 집합(Vocabulary) 만들기\n",
    "**\\<unk>** : 인코딩 과정에서 사전에 없는 단어는 전부 이 토큰의 인덱스로 인코딩 <br>\n",
    "**\\<pad>** : Padding (입력 데이터를 배치로 처리하려면, 배치 내의 모든 데이터가 같은 사이즈를 가져야 함)"
   ]
  },
  {
   "cell_type": "code",
   "execution_count": 7,
   "metadata": {
    "executionInfo": {
     "elapsed": 1761,
     "status": "ok",
     "timestamp": 1637778428083,
     "user": {
      "displayName": "danbibibi",
      "photoUrl": "https://lh3.googleusercontent.com/a-/AOh14GgCV4LCdBxb_RmpjoLw-8ThZ8N7trcM9XwJEfHFPQ=s64",
      "userId": "02685073261701276939"
     },
     "user_tz": -540
    },
    "id": "jWHqzbo1CJVj"
   },
   "outputs": [
    {
     "name": "stderr",
     "output_type": "stream",
     "text": [
      ".vector_cache/wiki.simple.vec: 293MB [02:03, 2.37MB/s]                          \n",
      "  0%|                                                | 0/111051 [00:00<?, ?it/s]Skipping token b'111051' with 1-dimensional vector [b'300']; likely a header\n",
      "100%|████████████████████████████████| 111051/111051 [00:09<00:00, 12287.15it/s]\n"
     ]
    }
   ],
   "source": [
    "MAX_VOCAB_SIZE = 25000 # 단어 집합의 최대 크기\n",
    "\n",
    "REVIEW.build_vocab(train_data,\n",
    "#                    min_freq = 3, # 단어의 최소 등장 빈도 조건\n",
    "                   max_size = MAX_VOCAB_SIZE, \n",
    "                   vectors = 'fasttext.simple.300d', # 한글 지원\n",
    "                   unk_init = torch.Tensor.normal_)\n",
    "LABEL.build_vocab(train_data)"
   ]
  },
  {
   "cell_type": "code",
   "execution_count": 8,
   "metadata": {
    "colab": {
     "base_uri": "https://localhost:8080/"
    },
    "executionInfo": {
     "elapsed": 10,
     "status": "ok",
     "timestamp": 1637778428084,
     "user": {
      "displayName": "danbibibi",
      "photoUrl": "https://lh3.googleusercontent.com/a-/AOh14GgCV4LCdBxb_RmpjoLw-8ThZ8N7trcM9XwJEfHFPQ=s64",
      "userId": "02685073261701276939"
     },
     "user_tz": -540
    },
    "id": "-3mKlpNfCODY",
    "outputId": "976d0f9f-c408-4ec2-f44a-83c28c9ba332"
   },
   "outputs": [
    {
     "name": "stdout",
     "output_type": "stream",
     "text": [
      "단어 집합의 크기 : 25002\n"
     ]
    }
   ],
   "source": [
    "print('단어 집합의 크기 : {}'.format(len(REVIEW.vocab)))\n",
    "# print(REVIEW.vocab.stoi) # 생성된 단어 집합 내 단어 확인 "
   ]
  },
  {
   "cell_type": "code",
   "execution_count": 9,
   "metadata": {},
   "outputs": [
    {
     "data": {
      "text/plain": [
       "torch.Size([25002, 300])"
      ]
     },
     "execution_count": 9,
     "metadata": {},
     "output_type": "execute_result"
    }
   ],
   "source": [
    "REVIEW.vocab.vectors.shape"
   ]
  },
  {
   "cell_type": "markdown",
   "metadata": {},
   "source": [
    "# 데이터 로더 생성"
   ]
  },
  {
   "cell_type": "code",
   "execution_count": 10,
   "metadata": {
    "executionInfo": {
     "elapsed": 7,
     "status": "ok",
     "timestamp": 1637778428085,
     "user": {
      "displayName": "danbibibi",
      "photoUrl": "https://lh3.googleusercontent.com/a-/AOh14GgCV4LCdBxb_RmpjoLw-8ThZ8N7trcM9XwJEfHFPQ=s64",
      "userId": "02685073261701276939"
     },
     "user_tz": -540
    },
    "id": "nQl21nurCPVo"
   },
   "outputs": [],
   "source": [
    "BATCH_SIZE = 128\n",
    "\n",
    "# BucketIterator : 모든 텍스트 작업을 일괄로 처리하고 단어를 인덱스 숫자로 변환 하는것을 도움 \n",
    "train_loader, valid_loader, test_loader = data.BucketIterator.splits(\n",
    "    (train_data, valid_data, test_data),\n",
    "    batch_size = BATCH_SIZE,\n",
    "    sort_key = lambda x: len(x.review), # 길이가 유사한 것을 일괄 처리하고, 패딩을 최소화하기위해 길이로 정렬\n",
    "    sort_within_batch = True) # 오름차순 정렬"
   ]
  },
  {
   "attachments": {
    "image-2.png": {
     "image/png": "[encoded data removed]"
    },
    "image.png": {
     "image/png": "[encoded data removed]"
    }
   },
   "cell_type": "markdown",
   "metadata": {
    "id": "BYLVr1wWCTaH"
   },
   "source": [
    "# Model\n",
    "##  [CNN을 이용한 자연어 처리](https://wikidocs.net/80437)\n",
    " : 1D CNN - 커널 사이즈 : [ n, embedding_dimension ]\n",
    "- 커널의 너비가 임베딩 벡터 차원 -> 커널이 2D CNN 때와 달리 너비 방향으로는 더 이상 움직일 곳이 없음\n",
    "- `1D Convolution` + `Pooling`\n",
    "\n",
    "### 1D Convolution \n",
    "![image.png](attachment:image.png)\n",
    "\n",
    "<br>\n",
    "\n",
    "###  Max-Pooling\n",
    "![image-2.png](attachment:image-2.png)\n",
    "\n",
    "논문 : [Convolutional Neural Networks for Sentence Classification](https://arxiv.org/abs/1408.5882)"
   ]
  },
  {
   "cell_type": "code",
   "execution_count": 11,
   "metadata": {
    "executionInfo": {
     "elapsed": 7,
     "status": "ok",
     "timestamp": 1637778428086,
     "user": {
      "displayName": "danbibibi",
      "photoUrl": "https://lh3.googleusercontent.com/a-/AOh14GgCV4LCdBxb_RmpjoLw-8ThZ8N7trcM9XwJEfHFPQ=s64",
      "userId": "02685073261701276939"
     },
     "user_tz": -540
    },
    "id": "5JKgGVVKCSC5"
   },
   "outputs": [],
   "source": [
    "class CNN(nn.Module):\n",
    "    def __init__(self, vocab_size, embedding_dim, n_kernels, kernel_sizes, output_dim, dropout, pad_idx):\n",
    "        super().__init__()\n",
    "        self.embedding = nn.Embedding(num_embeddings = vocab_size, # 임베딩을 할 단어들의 개수 (단어 집합의 크기)\n",
    "                                      embedding_dim = embedding_dim, # 임베딩 할 벡터의 차원 (하이퍼파라미터)\n",
    "                                      padding_idx = pad_idx) # 패딩을 위한 토큰의 인덱스\n",
    "        self.convs = nn.ModuleList([nn.Conv2d(in_channels = 1, # input channel수 ( ex RGB 이미지 = 3 )\n",
    "                                              out_channels = n_kernels, # convolution에 의해 생성될 channel의 수\n",
    "                                              kernel_size = (ksize, embedding_dim)) # ksize만 변화. embedding_dim은 고정\n",
    "                                    for ksize in kernel_sizes])\n",
    "        self.fc = nn.Linear(len(kernel_sizes)*n_kernels, output_dim)\n",
    "        self.dropout = nn.Dropout(dropout)\n",
    "        \n",
    "    def forward(self, review):\n",
    "        embedded = self.embedding(review)\n",
    "        embedded = embedded.unsqueeze(1) # 특정 위치에 1인 차원을 추가 <-> squeeze : 1인 차원을 제거\n",
    "        conved = [F.relu(conv(embedded)).squeeze(3) for conv in self.convs]\n",
    "        pooled = [F.max_pool1d(conv, conv.shape[2]).squeeze(2) for conv in conved]\n",
    "        cat = self.dropout(torch.cat(pooled, dim = 1))\n",
    "        res = self.fc(cat)\n",
    "        return self.fc(cat)"
   ]
  },
  {
   "cell_type": "code",
   "execution_count": 12,
   "metadata": {
    "executionInfo": {
     "elapsed": 6,
     "status": "ok",
     "timestamp": 1637778428086,
     "user": {
      "displayName": "danbibibi",
      "photoUrl": "https://lh3.googleusercontent.com/a-/AOh14GgCV4LCdBxb_RmpjoLw-8ThZ8N7trcM9XwJEfHFPQ=s64",
      "userId": "02685073261701276939"
     },
     "user_tz": -540
    },
    "id": "rymYn8ysD5pu"
   },
   "outputs": [
    {
     "name": "stdout",
     "output_type": "stream",
     "text": [
      "모델 파라미터 수 : 7861201\n"
     ]
    }
   ],
   "source": [
    "# 모델 선언\n",
    "INPUT_DIM = len(REVIEW.vocab)\n",
    "EMBEDDING_DIM = 300\n",
    "N_KERNELS = 100\n",
    "KERNEL_SIZES = [3,4,5]\n",
    "OUTPUT_DIM = 1\n",
    "DROPOUT = 0.5\n",
    "PAD_IDX = REVIEW.vocab.stoi[REVIEW.pad_token]\n",
    "\n",
    "model = CNN(INPUT_DIM, EMBEDDING_DIM, N_KERNELS, KERNEL_SIZES, OUTPUT_DIM, DROPOUT, PAD_IDX)\n",
    "\n",
    "print('모델 파라미터 수 :', sum(param.numel() for param in model.parameters() if param.requires_grad))"
   ]
  },
  {
   "cell_type": "code",
   "execution_count": 13,
   "metadata": {
    "colab": {
     "base_uri": "https://localhost:8080/"
    },
    "executionInfo": {
     "elapsed": 16,
     "status": "ok",
     "timestamp": 1637778430819,
     "user": {
      "displayName": "danbibibi",
      "photoUrl": "https://lh3.googleusercontent.com/a-/AOh14GgCV4LCdBxb_RmpjoLw-8ThZ8N7trcM9XwJEfHFPQ=s64",
      "userId": "02685073261701276939"
     },
     "user_tz": -540
    },
    "id": "LZDa2giMD8y2",
    "outputId": "6c2c1ec2-4fb2-48c4-810b-2e398cafcbe9"
   },
   "outputs": [
    {
     "name": "stdout",
     "output_type": "stream",
     "text": [
      "torch.Size([25002, 300]) torch.Size([25002, 300])\n",
      "tensor([[ 1.9269,  1.4873,  0.9007,  ..., -2.1268, -0.1341, -1.0408],\n",
      "        [ 0.7694,  2.5574,  0.5716,  ..., -0.9120,  0.3682,  0.7050],\n",
      "        [ 0.0569, -0.0520,  0.2733,  ..., -0.0695, -0.1606, -0.0989],\n",
      "        ...,\n",
      "        [ 0.8510,  0.7696,  0.5487,  ...,  1.6145, -1.1287, -0.0815],\n",
      "        [ 1.1613, -0.3453,  0.4837,  ..., -0.6227, -0.5946, -1.9983],\n",
      "        [ 0.2382, -0.8192,  0.1765,  ..., -0.7145, -0.2008,  1.0121]])\n"
     ]
    }
   ],
   "source": [
    "# 사전 훈련된 단어 벡터 불러오기\n",
    "pretrained_weight = REVIEW.vocab.vectors\n",
    "print(pretrained_weight.shape, model.embedding.weight.data.shape)\n",
    "print(model.embedding.weight.data.copy_(pretrained_weight))"
   ]
  },
  {
   "cell_type": "code",
   "execution_count": 14,
   "metadata": {
    "executionInfo": {
     "elapsed": 13,
     "status": "ok",
     "timestamp": 1637778430821,
     "user": {
      "displayName": "danbibibi",
      "photoUrl": "https://lh3.googleusercontent.com/a-/AOh14GgCV4LCdBxb_RmpjoLw-8ThZ8N7trcM9XwJEfHFPQ=s64",
      "userId": "02685073261701276939"
     },
     "user_tz": -540
    },
    "id": "EqJCloV_Ecq3"
   },
   "outputs": [],
   "source": [
    "UNK_IDX = REVIEW.vocab.stoi[REVIEW.unk_token]\n",
    "\n",
    "# unk, pad token -> 0 처리 \n",
    "model.embedding.weight.data[UNK_IDX] = torch.zeros(EMBEDDING_DIM)\n",
    "model.embedding.weight.data[PAD_IDX] = torch.zeros(EMBEDDING_DIM)"
   ]
  },
  {
   "cell_type": "markdown",
   "metadata": {
    "id": "BKrSq6DgEkhW"
   },
   "source": [
    "# Train"
   ]
  },
  {
   "cell_type": "code",
   "execution_count": 15,
   "metadata": {
    "executionInfo": {
     "elapsed": 12,
     "status": "ok",
     "timestamp": 1637778430822,
     "user": {
      "displayName": "danbibibi",
      "photoUrl": "https://lh3.googleusercontent.com/a-/AOh14GgCV4LCdBxb_RmpjoLw-8ThZ8N7trcM9XwJEfHFPQ=s64",
      "userId": "02685073261701276939"
     },
     "user_tz": -540
    },
    "id": "isFwMVaYEe5j"
   },
   "outputs": [],
   "source": [
    "optimizer = optim.Adam(model.parameters())\n",
    "criterion = nn.BCEWithLogitsLoss() # BCELoss + sigmoid"
   ]
  },
  {
   "cell_type": "code",
   "execution_count": 16,
   "metadata": {
    "executionInfo": {
     "elapsed": 12,
     "status": "ok",
     "timestamp": 1637778430822,
     "user": {
      "displayName": "danbibibi",
      "photoUrl": "https://lh3.googleusercontent.com/a-/AOh14GgCV4LCdBxb_RmpjoLw-8ThZ8N7trcM9XwJEfHFPQ=s64",
      "userId": "02685073261701276939"
     },
     "user_tz": -540
    },
    "id": "q1-5U8wCEr3l"
   },
   "outputs": [],
   "source": [
    "def binary_accuracy(preds, y):\n",
    "    rounded_preds = torch.round(torch.sigmoid(preds))\n",
    "    correct = (rounded_preds==y).float()\n",
    "    acc = correct.sum() / len(correct)\n",
    "    return acc"
   ]
  },
  {
   "cell_type": "code",
   "execution_count": 17,
   "metadata": {
    "executionInfo": {
     "elapsed": 11,
     "status": "ok",
     "timestamp": 1637778430822,
     "user": {
      "displayName": "danbibibi",
      "photoUrl": "https://lh3.googleusercontent.com/a-/AOh14GgCV4LCdBxb_RmpjoLw-8ThZ8N7trcM9XwJEfHFPQ=s64",
      "userId": "02685073261701276939"
     },
     "user_tz": -540
    },
    "id": "rfiEpLxzEsl9"
   },
   "outputs": [],
   "source": [
    "def train(model, iterator, optimizer, criterion):\n",
    "    epoch_loss = 0\n",
    "    epoch_acc = 0\n",
    "    \n",
    "    model.train()\n",
    "    \n",
    "    for batch in iterator:\n",
    "        optimizer.zero_grad()\n",
    "        predictions = model(batch.review).squeeze(1) # batchsize 크기 텐서 (output_dim = 1)\n",
    "        loss = criterion(predictions, batch.label)\n",
    "        acc = binary_accuracy(predictions, batch.label)\n",
    "        loss.backward()\n",
    "        optimizer.step()\n",
    "        \n",
    "        epoch_loss += loss.item()\n",
    "        epoch_acc += acc.item()\n",
    "        \n",
    "    return epoch_loss / len(iterator), epoch_acc / len(iterator)"
   ]
  },
  {
   "cell_type": "code",
   "execution_count": 18,
   "metadata": {
    "executionInfo": {
     "elapsed": 12,
     "status": "ok",
     "timestamp": 1637778430823,
     "user": {
      "displayName": "danbibibi",
      "photoUrl": "https://lh3.googleusercontent.com/a-/AOh14GgCV4LCdBxb_RmpjoLw-8ThZ8N7trcM9XwJEfHFPQ=s64",
      "userId": "02685073261701276939"
     },
     "user_tz": -540
    },
    "id": "F3wh47yaEuCc"
   },
   "outputs": [],
   "source": [
    "def evaluate(model, iterator, criterion):\n",
    "    epoch_loss = 0\n",
    "    epoch_acc = 0\n",
    "    \n",
    "    model.eval()\n",
    "    \n",
    "    with torch.no_grad():\n",
    "        for batch in iterator:\n",
    "            predictions = model(batch.review).squeeze(1)\n",
    "            loss = criterion(predictions, batch.label)\n",
    "            acc = binary_accuracy(predictions, batch.label)\n",
    "\n",
    "            epoch_loss += loss.item()\n",
    "            epoch_acc += acc.item()\n",
    "            \n",
    "    return epoch_loss / len(iterator), epoch_acc / len(iterator)"
   ]
  },
  {
   "cell_type": "code",
   "execution_count": 19,
   "metadata": {
    "executionInfo": {
     "elapsed": 11,
     "status": "ok",
     "timestamp": 1637778430823,
     "user": {
      "displayName": "danbibibi",
      "photoUrl": "https://lh3.googleusercontent.com/a-/AOh14GgCV4LCdBxb_RmpjoLw-8ThZ8N7trcM9XwJEfHFPQ=s64",
      "userId": "02685073261701276939"
     },
     "user_tz": -540
    },
    "id": "rwv_TfkAEvJ4"
   },
   "outputs": [],
   "source": [
    "def epoch_time(start_time, end_time):\n",
    "    elapsed_time = end_time - start_time\n",
    "    elapsed_mins = int(elapsed_time / 60)\n",
    "    elapsed_secs = int(elapsed_time - (elapsed_mins * 60))\n",
    "    return elapsed_mins, elapsed_secs"
   ]
  },
  {
   "cell_type": "code",
   "execution_count": 20,
   "metadata": {
    "id": "wFd5HivsEwli",
    "scrolled": false
   },
   "outputs": [
    {
     "name": "stdout",
     "output_type": "stream",
     "text": [
      "Epoch: 01 | Epoch Time: 2m 49s\n",
      "\tTrain Loss: 0.461 | Train Acc: 77.67%\n",
      "\t Val. Loss: 0.367 |  Val. Acc: 83.74%\n",
      "Epoch: 02 | Epoch Time: 2m 48s\n",
      "\tTrain Loss: 0.346 | Train Acc: 85.01%\n",
      "\t Val. Loss: 0.343 |  Val. Acc: 85.16%\n",
      "Epoch: 03 | Epoch Time: 2m 55s\n",
      "\tTrain Loss: 0.294 | Train Acc: 87.73%\n",
      "\t Val. Loss: 0.360 |  Val. Acc: 84.73%\n",
      "Epoch: 04 | Epoch Time: 2m 51s\n",
      "\tTrain Loss: 0.251 | Train Acc: 89.86%\n",
      "\t Val. Loss: 0.344 |  Val. Acc: 85.62%\n",
      "Epoch: 05 | Epoch Time: 2m 47s\n",
      "\tTrain Loss: 0.215 | Train Acc: 91.48%\n",
      "\t Val. Loss: 0.360 |  Val. Acc: 85.60%\n"
     ]
    }
   ],
   "source": [
    "N_EPOCHS = 5\n",
    "best_valid_loss = float('inf')\n",
    "\n",
    "for epoch in range(N_EPOCHS):\n",
    "    start_time = time.time()\n",
    "    \n",
    "    train_loss, train_acc = train(model, train_loader, optimizer, criterion)\n",
    "    valid_loss, valid_acc = evaluate(model, valid_loader, criterion)\n",
    "    \n",
    "    end_time = time.time()\n",
    "\n",
    "    epoch_mins, epoch_secs = epoch_time(start_time, end_time)\n",
    "    \n",
    "    if valid_loss < best_valid_loss:\n",
    "        best_valid_loss = valid_loss\n",
    "        torch.save(model.state_dict(), 'MovieSentimentAnalysis.pt') # 모델 저장\n",
    "    \n",
    "    print(f'Epoch: {epoch+1:02} | Epoch Time: {epoch_mins}m {epoch_secs}s')\n",
    "    print(f'\\tTrain Loss: {train_loss:.3f} | Train Acc: {train_acc*100:.2f}%')\n",
    "    print(f'\\t Val. Loss: {valid_loss:.3f} |  Val. Acc: {valid_acc*100:.2f}%')"
   ]
  },
  {
   "cell_type": "markdown",
   "metadata": {},
   "source": [
    "# Test"
   ]
  },
  {
   "cell_type": "code",
   "execution_count": 21,
   "metadata": {
    "id": "94uOPRqnE2mp"
   },
   "outputs": [
    {
     "name": "stdout",
     "output_type": "stream",
     "text": [
      "Test Loss: 0.347 | Test Acc: 85.03%\n"
     ]
    }
   ],
   "source": [
    "model.load_state_dict(torch.load('MovieSentimentAnalysis.pt'))\n",
    "\n",
    "test_loss, test_acc = evaluate(model, test_loader, criterion)\n",
    "\n",
    "print(f'Test Loss: {test_loss:.3f} | Test Acc: {test_acc*100:.2f}%')"
   ]
  },
  {
   "cell_type": "code",
   "execution_count": 69,
   "metadata": {},
   "outputs": [],
   "source": [
    "def sentiment_predict(review, tokenizer, model):\n",
    "    tokens = tokenizer(review) # 토큰화 \n",
    "    idxes=[]\n",
    "    \n",
    "    # 각 단어를 정수로 변환\n",
    "    for token in tokens:\n",
    "        try:\n",
    "            idxes.append(REVIEW.vocab[token])\n",
    "        except KeyError: # 단어 집합에 없는 단어일 경우 <unk>로 대체\n",
    "            idxes.append(vocab['<unk>'])\n",
    "    idxes = torch.LongTensor(idxes)\n",
    "    idxes = idxes.unsqueeze(0)\n",
    "    predictions = torch.sigmoid(model(idxes).squeeze(1))\n",
    "    if(predictions > 0.5):\n",
    "        print(\"{:.2f}% 확률로 부정 리뷰입니다.\\n\".format(predictions.item() * 100))\n",
    "    else:\n",
    "        print(\"{:.2f}% 확률로 긍정 리뷰입니다.\".format((1-predictions.item())*100))"
   ]
  },
  {
   "cell_type": "code",
   "execution_count": 70,
   "metadata": {},
   "outputs": [
    {
     "name": "stdout",
     "output_type": "stream",
     "text": [
      "98.59% 확률로 긍정 리뷰입니다.\n"
     ]
    }
   ],
   "source": [
    "sentiment_predict('정말 대작입니다... 꼭 보세요', tokenizer, model)"
   ]
  },
  {
   "cell_type": "code",
   "execution_count": 71,
   "metadata": {},
   "outputs": [
    {
     "name": "stdout",
     "output_type": "stream",
     "text": [
      "99.60% 확률로 긍정 리뷰입니다.\n"
     ]
    }
   ],
   "source": [
    "sentiment_predict('제가 본 영화 중 최고였습니다..', tokenizer, model)"
   ]
  },
  {
   "cell_type": "code",
   "execution_count": 72,
   "metadata": {},
   "outputs": [
    {
     "name": "stdout",
     "output_type": "stream",
     "text": [
      "83.35% 확률로 긍정 리뷰입니다.\n"
     ]
    }
   ],
   "source": [
    "sentiment_predict('한번 더 볼 의향 100%!!', tokenizer, model)"
   ]
  },
  {
   "cell_type": "code",
   "execution_count": 73,
   "metadata": {},
   "outputs": [
    {
     "name": "stdout",
     "output_type": "stream",
     "text": [
      "99.48% 확률로 부정 리뷰입니다.\n",
      "\n"
     ]
    }
   ],
   "source": [
    "sentiment_predict('돈 아깝다~~~', tokenizer, model)"
   ]
  },
  {
   "cell_type": "code",
   "execution_count": 74,
   "metadata": {},
   "outputs": [
    {
     "name": "stdout",
     "output_type": "stream",
     "text": [
      "99.60% 확률로 부정 리뷰입니다.\n",
      "\n"
     ]
    }
   ],
   "source": [
    "sentiment_predict('개 노잼... 보다가 중간에 나올뻔했다,,', tokenizer, model)"
   ]
  },
  {
   "cell_type": "code",
   "execution_count": 75,
   "metadata": {},
   "outputs": [
    {
     "name": "stdout",
     "output_type": "stream",
     "text": [
      "97.73% 확률로 부정 리뷰입니다.\n",
      "\n"
     ]
    }
   ],
   "source": [
    "sentiment_predict('영화를 이렇게 재미없게도 만들 수 있구나..', tokenizer, model)"
   ]
  }
 ],
 "metadata": {
  "accelerator": "GPU",
  "colab": {
   "authorship_tag": "ABX9TyOn7NxGfhKi07qvgwndn0QD",
   "mount_file_id": "1wYM6Gr60SLFB0ZJXprHWiuL5Ua22N_4Y",
   "name": "sentimentAnalysis.ipynb",
   "provenance": []
  },
  "kernelspec": {
   "display_name": "Python 3 (ipykernel)",
   "language": "python",
   "name": "python3"
  },
  "language_info": {
   "codemirror_mode": {
    "name": "ipython",
    "version": 3
   },
   "file_extension": ".py",
   "mimetype": "text/x-python",
   "name": "python",
   "nbconvert_exporter": "python",
   "pygments_lexer": "ipython3",
   "version": "3.9.7"
  }
 },
 "nbformat": 4,
 "nbformat_minor": 1
}
