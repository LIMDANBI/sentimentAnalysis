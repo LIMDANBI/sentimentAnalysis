{
 "cells": [
  {
   "cell_type": "markdown",
   "id": "487642df",
   "metadata": {},
   "source": [
    "# [KoNLPy(코엔엘파이)](https://konlpy-ko.readthedocs.io/ko/v0.4.3/)\n",
    "### : 한국어 정보처리를 위한 파이썬 패키지\n",
    "\n",
    "! pip install tweepy==3.10.0 <br>\n",
    "[KoNLPy설치 참고](https://yuddomack.tistory.com/entry/%EC%B2%98%EC%9D%8C%EB%B6%80%ED%84%B0-%EC%8B%9C%EC%9E%91%ED%95%98%EB%8A%94-EC2-konlpy-mecab-%EC%84%A4%EC%B9%98%ED%95%98%EA%B8%B0ubuntu)"
   ]
  },
  {
   "cell_type": "code",
   "execution_count": 1,
   "id": "5aa1eafb",
   "metadata": {},
   "outputs": [],
   "source": [
    "from konlpy.tag import Mecab # 형태소 분석기\n",
    "mecab = Mecab()"
   ]
  },
  {
   "cell_type": "code",
   "execution_count": 3,
   "id": "5a1d8dd1",
   "metadata": {},
   "outputs": [
    {
     "name": "stdout",
     "output_type": "stream",
     "text": [
      "['그', '끝', '날', '에', '오늘', '의', '어지러운', '기록', '도', '나', '의', '색이', '돼', '줄까', '그래', '그래', '나', '는', '다시', '어디', '쯤', '을', '지나', '또', '다른', '문', '을', '열', '기', '위해', '애쓰', '고', '있', '어', '그', '하루', '들', '에', '오늘', '처럼', '무너지', '는', '날', '에', '도', '괜찮', '아', '나', '는', '괜찮', '아']\n"
     ]
    }
   ],
   "source": [
    "# 윤딴딴 - 조금은 울적한 하루를 보낸 뒤 (가사가 좋아서 ..🤤)\n",
    "print(mecab.morphs('그 끝날에 오늘의 어지러운 기록도 나의 색이 돼줄까 \\\n",
    "그래 그래 나는 다시 어디쯤을 지나 또 다른 문을 열기 위해 애쓰고 있어 \\\n",
    "그 하루들에 오늘처럼 무너지는 날에도 괜찮아 나는 괜찮아'))"
   ]
  }
 ],
 "metadata": {
  "kernelspec": {
   "display_name": "Python 3 (ipykernel)",
   "language": "python",
   "name": "python3"
  },
  "language_info": {
   "codemirror_mode": {
    "name": "ipython",
    "version": 3
   },
   "file_extension": ".py",
   "mimetype": "text/x-python",
   "name": "python",
   "nbconvert_exporter": "python",
   "pygments_lexer": "ipython3",
   "version": "3.9.7"
  }
 },
 "nbformat": 4,
 "nbformat_minor": 5
}
